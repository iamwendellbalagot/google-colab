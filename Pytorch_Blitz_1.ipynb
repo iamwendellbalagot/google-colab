{
  "nbformat": 4,
  "nbformat_minor": 0,
  "metadata": {
    "colab": {
      "name": "Pytorch Blitz 1.ipynb",
      "provenance": [],
      "authorship_tag": "ABX9TyOdq1r7c/OLZypkj5Jki6+s",
      "include_colab_link": true
    },
    "kernelspec": {
      "name": "python3",
      "display_name": "Python 3"
    },
    "accelerator": "GPU"
  },
  "cells": [
    {
      "cell_type": "markdown",
      "metadata": {
        "id": "view-in-github",
        "colab_type": "text"
      },
      "source": [
        "<a href=\"https://colab.research.google.com/github/iamwendellbalagot/google-colab/blob/master/Pytorch_Blitz_1.ipynb\" target=\"_parent\"><img src=\"https://colab.research.google.com/assets/colab-badge.svg\" alt=\"Open In Colab\"/></a>"
      ]
    },
    {
      "cell_type": "code",
      "metadata": {
        "id": "wRtjISIKYOgz",
        "colab_type": "code",
        "colab": {}
      },
      "source": [
        "from __future__ import print_function\n",
        "import torch"
      ],
      "execution_count": null,
      "outputs": []
    },
    {
      "cell_type": "code",
      "metadata": {
        "id": "ZO1g6VWyYc7p",
        "colab_type": "code",
        "colab": {
          "base_uri": "https://localhost:8080/",
          "height": 102
        },
        "outputId": "a6289452-08a5-4060-86f8-5b75f9629968"
      },
      "source": [
        "x = torch.empty(5,3)\n",
        "x"
      ],
      "execution_count": null,
      "outputs": [
        {
          "output_type": "execute_result",
          "data": {
            "text/plain": [
              "tensor([[3.4468e-36, 0.0000e+00, 3.3631e-44],\n",
              "        [0.0000e+00,        nan, 0.0000e+00],\n",
              "        [1.1578e+27, 1.1362e+30, 7.1547e+22],\n",
              "        [4.5828e+30, 1.2121e+04, 7.1846e+22],\n",
              "        [9.2198e-39, 7.0374e+22, 1.2582e-36]])"
            ]
          },
          "metadata": {
            "tags": []
          },
          "execution_count": 2
        }
      ]
    },
    {
      "cell_type": "code",
      "metadata": {
        "id": "3Dpxuw2cYn7s",
        "colab_type": "code",
        "colab": {
          "base_uri": "https://localhost:8080/",
          "height": 102
        },
        "outputId": "87f383c6-fe74-43e7-b628-cb3dcad0b2de"
      },
      "source": [
        "x = torch.rand(5,3)\n",
        "x"
      ],
      "execution_count": null,
      "outputs": [
        {
          "output_type": "execute_result",
          "data": {
            "text/plain": [
              "tensor([[0.9071, 0.0619, 0.4673],\n",
              "        [0.1225, 0.6104, 0.0062],\n",
              "        [0.5111, 0.0182, 0.5156],\n",
              "        [0.6719, 0.0853, 0.5917],\n",
              "        [0.7358, 0.4813, 0.9075]])"
            ]
          },
          "metadata": {
            "tags": []
          },
          "execution_count": 3
        }
      ]
    },
    {
      "cell_type": "code",
      "metadata": {
        "id": "HFpuZXN4Ys0V",
        "colab_type": "code",
        "colab": {
          "base_uri": "https://localhost:8080/",
          "height": 102
        },
        "outputId": "90664b76-d70b-49b1-9472-1b6743cacb6f"
      },
      "source": [
        "x = torch.zeros((5,3), dtype=torch.long)\n",
        "x"
      ],
      "execution_count": null,
      "outputs": [
        {
          "output_type": "execute_result",
          "data": {
            "text/plain": [
              "tensor([[0, 0, 0],\n",
              "        [0, 0, 0],\n",
              "        [0, 0, 0],\n",
              "        [0, 0, 0],\n",
              "        [0, 0, 0]])"
            ]
          },
          "metadata": {
            "tags": []
          },
          "execution_count": 4
        }
      ]
    },
    {
      "cell_type": "code",
      "metadata": {
        "id": "xFL8DkwZY6o8",
        "colab_type": "code",
        "colab": {
          "base_uri": "https://localhost:8080/",
          "height": 34
        },
        "outputId": "41760692-366b-44d3-d939-9f1b638f8916"
      },
      "source": [
        "x = torch.tensor([5.4, 3.3])\n",
        "x"
      ],
      "execution_count": null,
      "outputs": [
        {
          "output_type": "execute_result",
          "data": {
            "text/plain": [
              "tensor([5.4000, 3.3000])"
            ]
          },
          "metadata": {
            "tags": []
          },
          "execution_count": 5
        }
      ]
    },
    {
      "cell_type": "code",
      "metadata": {
        "id": "wn0gwbMcZOAL",
        "colab_type": "code",
        "colab": {
          "base_uri": "https://localhost:8080/",
          "height": 187
        },
        "outputId": "8d4d4d9c-6ed8-44e5-f185-3c810eb03100"
      },
      "source": [
        "x = x.new_ones((5,3), dtype=torch.long)\n",
        "print(x)\n",
        "\n",
        "x = torch.rand_like(x, dtype=torch.float64)\n",
        "print(x)"
      ],
      "execution_count": null,
      "outputs": [
        {
          "output_type": "stream",
          "text": [
            "tensor([[1, 1, 1],\n",
            "        [1, 1, 1],\n",
            "        [1, 1, 1],\n",
            "        [1, 1, 1],\n",
            "        [1, 1, 1]])\n",
            "tensor([[0.2165, 0.6143, 0.7782],\n",
            "        [0.7633, 0.7143, 0.8908],\n",
            "        [0.9637, 0.7012, 0.3255],\n",
            "        [0.7498, 0.1734, 0.7024],\n",
            "        [0.7678, 0.3396, 0.1638]], dtype=torch.float64)\n"
          ],
          "name": "stdout"
        }
      ]
    },
    {
      "cell_type": "code",
      "metadata": {
        "id": "-TWhjiKQZdDv",
        "colab_type": "code",
        "colab": {
          "base_uri": "https://localhost:8080/",
          "height": 34
        },
        "outputId": "a10da480-6e1e-47a8-f835-fb11d03e9275"
      },
      "source": [
        "x.size()"
      ],
      "execution_count": null,
      "outputs": [
        {
          "output_type": "execute_result",
          "data": {
            "text/plain": [
              "torch.Size([5, 3])"
            ]
          },
          "metadata": {
            "tags": []
          },
          "execution_count": 7
        }
      ]
    },
    {
      "cell_type": "code",
      "metadata": {
        "id": "Og3c1nIGZwjS",
        "colab_type": "code",
        "colab": {
          "base_uri": "https://localhost:8080/",
          "height": 102
        },
        "outputId": "f6ea6513-739c-4508-f193-867b3f679896"
      },
      "source": [
        "y = torch.rand((5,3))\n",
        "print(x+y)"
      ],
      "execution_count": null,
      "outputs": [
        {
          "output_type": "stream",
          "text": [
            "tensor([[0.2772, 1.5190, 1.3889],\n",
            "        [0.8568, 0.8276, 1.2675],\n",
            "        [1.8876, 1.5511, 0.6815],\n",
            "        [1.1587, 1.0891, 1.3386],\n",
            "        [0.8799, 1.2190, 0.1679]], dtype=torch.float64)\n"
          ],
          "name": "stdout"
        }
      ]
    },
    {
      "cell_type": "code",
      "metadata": {
        "id": "bsJnGab-aLgh",
        "colab_type": "code",
        "colab": {
          "base_uri": "https://localhost:8080/",
          "height": 102
        },
        "outputId": "bf2b2547-a320-4180-a38e-637e57ada44f"
      },
      "source": [
        "result = torch.empty(5,3)\n",
        "torch.add(x,y, out=result)\n",
        "print(result)"
      ],
      "execution_count": null,
      "outputs": [
        {
          "output_type": "stream",
          "text": [
            "tensor([[0.2772, 1.5190, 1.3889],\n",
            "        [0.8568, 0.8276, 1.2675],\n",
            "        [1.8876, 1.5511, 0.6815],\n",
            "        [1.1587, 1.0891, 1.3386],\n",
            "        [0.8799, 1.2190, 0.1679]])\n"
          ],
          "name": "stdout"
        }
      ]
    },
    {
      "cell_type": "code",
      "metadata": {
        "id": "_CUP3fQOaiaf",
        "colab_type": "code",
        "colab": {
          "base_uri": "https://localhost:8080/",
          "height": 102
        },
        "outputId": "35607f83-ce2c-46b3-e695-979278f1f924"
      },
      "source": [
        "y"
      ],
      "execution_count": null,
      "outputs": [
        {
          "output_type": "execute_result",
          "data": {
            "text/plain": [
              "tensor([[0.0607, 0.9047, 0.6107],\n",
              "        [0.0935, 0.1134, 0.3767],\n",
              "        [0.9239, 0.8498, 0.3560],\n",
              "        [0.4090, 0.9157, 0.6361],\n",
              "        [0.1121, 0.8794, 0.0041]])"
            ]
          },
          "metadata": {
            "tags": []
          },
          "execution_count": 10
        }
      ]
    },
    {
      "cell_type": "code",
      "metadata": {
        "id": "N4Jsc6JLbCp8",
        "colab_type": "code",
        "colab": {
          "base_uri": "https://localhost:8080/",
          "height": 68
        },
        "outputId": "9797ffab-902c-4ecb-ff63-0234c6f52bd2"
      },
      "source": [
        "x.t_()"
      ],
      "execution_count": null,
      "outputs": [
        {
          "output_type": "execute_result",
          "data": {
            "text/plain": [
              "tensor([[0.2165, 0.7633, 0.9637, 0.7498, 0.7678],\n",
              "        [0.6143, 0.7143, 0.7012, 0.1734, 0.3396],\n",
              "        [0.7782, 0.8908, 0.3255, 0.7024, 0.1638]], dtype=torch.float64)"
            ]
          },
          "metadata": {
            "tags": []
          },
          "execution_count": 11
        }
      ]
    },
    {
      "cell_type": "code",
      "metadata": {
        "id": "RQ26XEXLbp28",
        "colab_type": "code",
        "colab": {
          "base_uri": "https://localhost:8080/",
          "height": 85
        },
        "outputId": "19514952-679d-4ab1-eedd-bad7df04ac89"
      },
      "source": [
        "x = torch.rand(4,4)\n",
        "print(x)"
      ],
      "execution_count": null,
      "outputs": [
        {
          "output_type": "stream",
          "text": [
            "tensor([[0.1253, 0.3385, 0.2469, 0.9567],\n",
            "        [0.9484, 0.0844, 0.2179, 0.6856],\n",
            "        [0.6802, 0.7042, 0.5931, 0.2215],\n",
            "        [0.8650, 0.2832, 0.6047, 0.5128]])\n"
          ],
          "name": "stdout"
        }
      ]
    },
    {
      "cell_type": "code",
      "metadata": {
        "id": "3cpMM4IFcI2z",
        "colab_type": "code",
        "colab": {
          "base_uri": "https://localhost:8080/",
          "height": 544
        },
        "outputId": "104eb86a-8d9a-4759-93c7-cbc80b565280"
      },
      "source": [
        "x.view(-1,1,1)"
      ],
      "execution_count": null,
      "outputs": [
        {
          "output_type": "execute_result",
          "data": {
            "text/plain": [
              "tensor([[[0.1253]],\n",
              "\n",
              "        [[0.3385]],\n",
              "\n",
              "        [[0.2469]],\n",
              "\n",
              "        [[0.9567]],\n",
              "\n",
              "        [[0.9484]],\n",
              "\n",
              "        [[0.0844]],\n",
              "\n",
              "        [[0.2179]],\n",
              "\n",
              "        [[0.6856]],\n",
              "\n",
              "        [[0.6802]],\n",
              "\n",
              "        [[0.7042]],\n",
              "\n",
              "        [[0.5931]],\n",
              "\n",
              "        [[0.2215]],\n",
              "\n",
              "        [[0.8650]],\n",
              "\n",
              "        [[0.2832]],\n",
              "\n",
              "        [[0.6047]],\n",
              "\n",
              "        [[0.5128]]])"
            ]
          },
          "metadata": {
            "tags": []
          },
          "execution_count": 13
        }
      ]
    },
    {
      "cell_type": "code",
      "metadata": {
        "id": "yI6JN-zFckfu",
        "colab_type": "code",
        "colab": {
          "base_uri": "https://localhost:8080/",
          "height": 34
        },
        "outputId": "64812166-6668-46fb-b234-43ea7ce65359"
      },
      "source": [
        "if torch.cuda.is_available():\n",
        "  device  = torch.device('cuda')\n",
        "  y = torch.ones_like(x, device=device)\n",
        "  x = x.to(device)\n",
        "  z = x + y \n",
        "  print(z)\n",
        "  print(z.to())"
      ],
      "execution_count": null,
      "outputs": [
        {
          "output_type": "execute_result",
          "data": {
            "text/plain": [
              "True"
            ]
          },
          "metadata": {
            "tags": []
          },
          "execution_count": 14
        }
      ]
    },
    {
      "cell_type": "code",
      "metadata": {
        "id": "Et5t4tArgNiY",
        "colab_type": "code",
        "colab": {}
      },
      "source": [
        ""
      ],
      "execution_count": null,
      "outputs": []
    }
  ]
}