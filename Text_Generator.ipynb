{
  "nbformat": 4,
  "nbformat_minor": 0,
  "metadata": {
    "colab": {
      "name": "Text Generator.ipynb",
      "provenance": [],
      "toc_visible": true,
      "mount_file_id": "1CvfEl8HXB_IpnusqGQGDGOiiJyUChhT2",
      "authorship_tag": "ABX9TyPNpBTvvel1mDguCAEcWJJH",
      "include_colab_link": true
    },
    "kernelspec": {
      "name": "python3",
      "display_name": "Python 3"
    },
    "accelerator": "GPU"
  },
  "cells": [
    {
      "cell_type": "markdown",
      "metadata": {
        "id": "view-in-github",
        "colab_type": "text"
      },
      "source": [
        "<a href=\"https://colab.research.google.com/github/iamwendellbalagot/google-colab/blob/master/Text_Generator.ipynb\" target=\"_parent\"><img src=\"https://colab.research.google.com/assets/colab-badge.svg\" alt=\"Open In Colab\"/></a>"
      ]
    },
    {
      "cell_type": "code",
      "metadata": {
        "id": "8LFybRFd54-U",
        "colab_type": "code",
        "colab": {
          "base_uri": "https://localhost:8080/",
          "height": 102
        },
        "outputId": "b40a4eb8-d276-4229-83d6-e741575bb351"
      },
      "source": [
        "%tensorflow_version 2.x  # this line is not required unless you are in a notebook\n",
        "from keras.preprocessing import sequence\n",
        "import keras\n",
        "import tensorflow as tf\n",
        "import os\n",
        "import numpy as np\n",
        "import codecs\n"
      ],
      "execution_count": null,
      "outputs": [
        {
          "output_type": "stream",
          "text": [
            "`%tensorflow_version` only switches the major version: 1.x or 2.x.\n",
            "You set: `2.x  # this line is not required unless you are in a notebook`. This will be interpreted as: `2.x`.\n",
            "\n",
            "\n",
            "TensorFlow is already loaded. Please restart the runtime to change versions.\n"
          ],
          "name": "stdout"
        }
      ]
    },
    {
      "cell_type": "code",
      "metadata": {
        "id": "pf_42Riu6FV7",
        "colab_type": "code",
        "colab": {
          "base_uri": "https://localhost:8080/",
          "height": 51
        },
        "outputId": "41f6d2f8-c317-4639-e27c-fed1d99f742b"
      },
      "source": [
        "path_to_file = tf.keras.utils.get_file('sayings_of_confucius.txt', 'http://www.gutenberg.org/files/46389/46389-0.txt')"
      ],
      "execution_count": null,
      "outputs": [
        {
          "output_type": "stream",
          "text": [
            "Downloading data from http://www.gutenberg.org/files/46389/46389-0.txt\n",
            "196608/195707 [==============================] - 0s 1us/step\n"
          ],
          "name": "stdout"
        }
      ]
    },
    {
      "cell_type": "code",
      "metadata": {
        "id": "QSS99_O_6KFh",
        "colab_type": "code",
        "colab": {
          "base_uri": "https://localhost:8080/",
          "height": 697
        },
        "outputId": "7013cbb8-3029-4147-d7a8-6bf88548d634"
      },
      "source": [
        "text = open(path_to_file, 'rb').read().decode(encoding='utf-8')\n",
        "text = text[2500:]\n",
        "text = text[:-20000]\n",
        "print('Length: ', len(text))\n",
        "print(text[:2500])"
      ],
      "execution_count": null,
      "outputs": [
        {
          "output_type": "stream",
          "text": [
            "Length:  172657\n",
            "mely great figures in the world's\r\n",
            "history. A man's greatness must always be measured, in the first\r\n",
            "place, by the consensus of opinion in his own country; the judgment of\r\n",
            "foreigners can only be allowed to have a secondary value. Especially\r\n",
            "is this true when the critics are not only foreigners, but belong to a\r\n",
            "totally different order of civilisation from the men whose greatness\r\n",
            "they would appraise. For even if they can keep their minds free from\r\n",
            "purely national bias of the unreasoning sort, they will naturally look\r\n",
            "for such attributes as are highly prized among themselves, and feel\r\n",
            "disappointed if these are not much in evidence. They will be apt to see\r\n",
            "certain defects too plainly, whereas they may easily overlook or fail\r\n",
            "to appreciate to the full those very qualities on which the title to\r\n",
            "greatness is mainly based. These errors and prejudices will, doubtless,\r\n",
            "tend to disappear as more intimate knowledge is gained and the\r\n",
            "essential unity of human nature shows itself beneath the accidents of\r\n",
            "custom and environment. But the process will always be slow. The name\r\n",
            "of Confucius may be deemed sufficiently familiar in the West to render\r\n",
            "unnecessary any revision of the popular verdict which has already been\r\n",
            "passed on him. But are his judges equally familiar with the teaching\r\n",
            "which his name represents? The name of Shakespeare was well enough\r\n",
            "known to Frenchmen in the time of Voltaire. Yet how many generations\r\n",
            "had to pass ere they began to recognise his true greatness? The\r\n",
            "parallel between dramatist and social reformer may seem strained, but\r\n",
            "it is not drawn at random. In both cases, wide differences of language\r\n",
            "and the inadequacy of translations to bridge the gap, lie at the root\r\n",
            "of the trouble.\r\n",
            "\r\n",
            "No great man has suffered more than Confucius from the stupidity, the\r\n",
            "misstatements and the misrepresentations, from the lack of sympathy\r\n",
            "and generosity, and, in some points, from the pure ignorance of his\r\n",
            "critics. Early travellers arriving from the West, amongst a people\r\n",
            "utterly alien to themselves in almost every detail--language,\r\n",
            "dress, habits, modes of thought, ethical ideals and general view of\r\n",
            "life--would have done well to walk very warily and, in the Confucian\r\n",
            "phrase, \"to reserve their judgment\" on what they saw and heard around\r\n",
            "them. But patience and discrimination were the very last virtues\r\n",
            "which these inquisitive newcomers had a mind to practise; and,\r\n",
            "unluckily, the extraordinary fame of the national sage marked him out\r\n",
            "as one of \n"
          ],
          "name": "stdout"
        }
      ]
    },
    {
      "cell_type": "code",
      "metadata": {
        "id": "5AjFnu946mtH",
        "colab_type": "code",
        "colab": {}
      },
      "source": [
        "vocab = sorted(set(text))\n",
        "char2idx = {u:i for i,u in enumerate(vocab)}\n",
        "idx2char = np.array(vocab)\n",
        "\n",
        "def text_to_int(text):\n",
        "  return np.array([char2idx[char] for char in text ])\n",
        "text_as_int = text_to_int(text)"
      ],
      "execution_count": null,
      "outputs": []
    },
    {
      "cell_type": "code",
      "metadata": {
        "id": "jDH5Jktw614M",
        "colab_type": "code",
        "colab": {}
      },
      "source": [
        "def int_to_text(text):\n",
        "  try:\n",
        "    text = np.array(text)\n",
        "  except:\n",
        "    pass\n",
        "  return ''.join([idx2char[i] for i in text])"
      ],
      "execution_count": null,
      "outputs": []
    },
    {
      "cell_type": "code",
      "metadata": {
        "id": "MCR6Gs5k7kC2",
        "colab_type": "code",
        "colab": {
          "base_uri": "https://localhost:8080/",
          "height": 51
        },
        "outputId": "3d17568a-8188-4eb0-d6b8-0a17dccd825a"
      },
      "source": [
        "print(int_to_text(text_as_int[:20]))\n",
        "print(text[:20])"
      ],
      "execution_count": null,
      "outputs": [
        {
          "output_type": "stream",
          "text": [
            "mely great figures i\n",
            "mely great figures i\n"
          ],
          "name": "stdout"
        }
      ]
    },
    {
      "cell_type": "code",
      "metadata": {
        "id": "D1baYQA49qPf",
        "colab_type": "code",
        "colab": {}
      },
      "source": [
        "seq_length = 100\n",
        "examples_per_seq = len(text) // (seq_length + 1)\n",
        "char_dataset = tf.data.Dataset.from_tensor_slices(text_as_int)"
      ],
      "execution_count": null,
      "outputs": []
    },
    {
      "cell_type": "code",
      "metadata": {
        "id": "SSwbI8dC_dK0",
        "colab_type": "code",
        "colab": {}
      },
      "source": [
        "sequences = char_dataset.batch(seq_length+1, drop_remainder=True)"
      ],
      "execution_count": null,
      "outputs": []
    },
    {
      "cell_type": "code",
      "metadata": {
        "id": "SIBOnyOcAcQ9",
        "colab_type": "code",
        "colab": {}
      },
      "source": [
        "def split_input_target(chunk):\n",
        "  input_text = chunk[:-1]\n",
        "  target_text = chunk[1:]\n",
        "  return input_text, target_text\n",
        "dataset = sequences.map(split_input_target)"
      ],
      "execution_count": null,
      "outputs": []
    },
    {
      "cell_type": "code",
      "metadata": {
        "id": "ng4D3bgaAqwk",
        "colab_type": "code",
        "colab": {
          "base_uri": "https://localhost:8080/",
          "height": 51
        },
        "outputId": "1c165a4c-c222-41c4-ca45-51d50087db35"
      },
      "source": [
        "for a,b in dataset.take(1):\n",
        "  print(a.shape)\n",
        "  print(b.shape)"
      ],
      "execution_count": null,
      "outputs": [
        {
          "output_type": "stream",
          "text": [
            "(100,)\n",
            "(100,)\n"
          ],
          "name": "stdout"
        }
      ]
    },
    {
      "cell_type": "code",
      "metadata": {
        "id": "upDe1PpDCYuY",
        "colab_type": "code",
        "colab": {}
      },
      "source": [
        "BATCH_SIZE = 64\n",
        "VOCAB_SIZE = len(vocab)\n",
        "EMBEDDING_DIM = 256\n",
        "RNN_UNITS = 1024\n",
        "BUFFER_SIZE = 10000\n",
        "\n",
        "data = dataset.shuffle(BUFFER_SIZE).batch(BATCH_SIZE, drop_remainder = True)"
      ],
      "execution_count": null,
      "outputs": []
    },
    {
      "cell_type": "code",
      "metadata": {
        "id": "EVjEPz41DvXk",
        "colab_type": "code",
        "colab": {
          "base_uri": "https://localhost:8080/",
          "height": 34
        },
        "outputId": "4b59fa79-ae94-4e18-950d-b384adee40fd"
      },
      "source": [
        "data"
      ],
      "execution_count": null,
      "outputs": [
        {
          "output_type": "execute_result",
          "data": {
            "text/plain": [
              "<BatchDataset shapes: ((64, 100), (64, 100)), types: (tf.int64, tf.int64)>"
            ]
          },
          "metadata": {
            "tags": []
          },
          "execution_count": 239
        }
      ]
    },
    {
      "cell_type": "code",
      "metadata": {
        "id": "JRF2002dDyUJ",
        "colab_type": "code",
        "colab": {}
      },
      "source": [
        "layers = tf.keras.layers\n",
        "\n",
        "def build_model(vocab_size, embedding_size, batch_size, rnn_units):\n",
        "  model = tf.keras.models.Sequential()\n",
        "  model.add(layers.Embedding(vocab_size, embedding_size, batch_input_shape=[batch_size, None]))\n",
        "  model.add(layers.LSTM(rnn_units, return_sequences=True, stateful=True, recurrent_initializer= 'glorot_uniform'))\n",
        "  model.add(layers.Dropout(0.2))\n",
        "  model.add(layers.Dense(vocab_size))\n",
        "  model.summary()\n",
        "  return model"
      ],
      "execution_count": null,
      "outputs": []
    },
    {
      "cell_type": "code",
      "metadata": {
        "id": "HePBCQT1Ec9M",
        "colab_type": "code",
        "colab": {
          "base_uri": "https://localhost:8080/",
          "height": 289
        },
        "outputId": "8d52ee0d-98df-48c9-d117-4b8f7141a74c"
      },
      "source": [
        "model = build_model(VOCAB_SIZE, EMBEDDING_DIM, BATCH_SIZE, RNN_UNITS)"
      ],
      "execution_count": null,
      "outputs": [
        {
          "output_type": "stream",
          "text": [
            "Model: \"sequential_7\"\n",
            "_________________________________________________________________\n",
            "Layer (type)                 Output Shape              Param #   \n",
            "=================================================================\n",
            "embedding_7 (Embedding)      (64, None, 256)           29696     \n",
            "_________________________________________________________________\n",
            "lstm_7 (LSTM)                (64, None, 1024)          5246976   \n",
            "_________________________________________________________________\n",
            "dropout_7 (Dropout)          (64, None, 1024)          0         \n",
            "_________________________________________________________________\n",
            "dense_7 (Dense)              (64, None, 116)           118900    \n",
            "=================================================================\n",
            "Total params: 5,395,572\n",
            "Trainable params: 5,395,572\n",
            "Non-trainable params: 0\n",
            "_________________________________________________________________\n"
          ],
          "name": "stdout"
        }
      ]
    },
    {
      "cell_type": "code",
      "metadata": {
        "id": "3nm9KhygFqO6",
        "colab_type": "code",
        "colab": {
          "base_uri": "https://localhost:8080/",
          "height": 34
        },
        "outputId": "4e03645a-3963-43e1-d430-ed685a210fcb"
      },
      "source": [
        "for i,t in data.take(1):\n",
        "  sample_prediction = model(i)\n",
        "print(sample_prediction.shape)"
      ],
      "execution_count": null,
      "outputs": [
        {
          "output_type": "stream",
          "text": [
            "(64, 100, 116)\n"
          ],
          "name": "stdout"
        }
      ]
    },
    {
      "cell_type": "code",
      "metadata": {
        "id": "0uCmaRBoGl_o",
        "colab_type": "code",
        "colab": {}
      },
      "source": [
        "pred = tf.random.categorical(sample_prediction[20], num_samples=1)\n",
        "pred = np.reshape(pred, (pred.shape[0]))"
      ],
      "execution_count": null,
      "outputs": []
    },
    {
      "cell_type": "code",
      "metadata": {
        "id": "iMtNB1ISHY4S",
        "colab_type": "code",
        "colab": {
          "base_uri": "https://localhost:8080/",
          "height": 35
        },
        "outputId": "37e757ae-21cb-4d6f-f3d4-2f0f5ef70a81"
      },
      "source": [
        "int_to_text(pred)"
      ],
      "execution_count": null,
      "outputs": [
        {
          "output_type": "execute_result",
          "data": {
            "application/vnd.google.colaboratory.intrinsic+json": {
              "type": "string"
            },
            "text/plain": [
              "'λxM)ό8z*Yωnuj6Oωx0εN-V.cC\"σG;\"? öςQ7jé)υήqκPaOSsφηύ( pTtbU]E?8J,zgé;tkκCνηNPύ2ŭMk\\nλ[θqηPωê3]5ws]φB-v'"
            ]
          },
          "metadata": {
            "tags": []
          },
          "execution_count": 244
        }
      ]
    },
    {
      "cell_type": "code",
      "metadata": {
        "id": "QDwElSVgIFPg",
        "colab_type": "code",
        "colab": {}
      },
      "source": [
        "def loss(labels, logits):\n",
        "  return tf.keras.losses.sparse_categorical_crossentropy(labels, logits, from_logits=True)"
      ],
      "execution_count": null,
      "outputs": []
    },
    {
      "cell_type": "code",
      "metadata": {
        "id": "7A7qYA4jJT4Q",
        "colab_type": "code",
        "colab": {}
      },
      "source": [
        "model.compile(loss = loss, optimizer='adam')"
      ],
      "execution_count": null,
      "outputs": []
    },
    {
      "cell_type": "code",
      "metadata": {
        "id": "qnoBpAhgJbwv",
        "colab_type": "code",
        "colab": {}
      },
      "source": [
        "checkpoint_dir = './maxwell_checkpoints'\n",
        "checkpoint_prefix = os.path.join(checkpoint_dir, 'ckpt_{epoch}')\n",
        "\n",
        "checkpoint_callback = tf.keras.callbacks.ModelCheckpoint(\n",
        "    filepath = checkpoint_prefix,\n",
        "    save_weights_only=True\n",
        ")"
      ],
      "execution_count": null,
      "outputs": []
    },
    {
      "cell_type": "code",
      "metadata": {
        "id": "VNVU37FyKIf9",
        "colab_type": "code",
        "colab": {
          "base_uri": "https://localhost:8080/",
          "height": 1000
        },
        "outputId": "1caa6890-b4a3-4822-bd60-6300440e184a"
      },
      "source": [
        "history = model.fit(data, epochs=50)"
      ],
      "execution_count": null,
      "outputs": [
        {
          "output_type": "stream",
          "text": [
            "Epoch 1/50\n",
            "26/26 [==============================] - 2s 67ms/step - loss: 0.2050\n",
            "Epoch 2/50\n",
            "26/26 [==============================] - 2s 66ms/step - loss: 0.2019\n",
            "Epoch 3/50\n",
            "26/26 [==============================] - 2s 66ms/step - loss: 0.2015\n",
            "Epoch 4/50\n",
            "26/26 [==============================] - 2s 66ms/step - loss: 0.2020\n",
            "Epoch 5/50\n",
            "26/26 [==============================] - 2s 66ms/step - loss: 0.2025\n",
            "Epoch 6/50\n",
            "26/26 [==============================] - 2s 66ms/step - loss: 0.2015\n",
            "Epoch 7/50\n",
            "26/26 [==============================] - 2s 67ms/step - loss: 0.1996\n",
            "Epoch 8/50\n",
            "26/26 [==============================] - 2s 67ms/step - loss: 0.1988\n",
            "Epoch 9/50\n",
            "26/26 [==============================] - 2s 68ms/step - loss: 0.1976\n",
            "Epoch 10/50\n",
            "26/26 [==============================] - 2s 68ms/step - loss: 0.1943\n",
            "Epoch 11/50\n",
            "26/26 [==============================] - 2s 68ms/step - loss: 0.1977\n",
            "Epoch 12/50\n",
            "26/26 [==============================] - 2s 68ms/step - loss: 0.1940\n",
            "Epoch 13/50\n",
            "26/26 [==============================] - 2s 68ms/step - loss: 0.1950\n",
            "Epoch 14/50\n",
            "26/26 [==============================] - 2s 69ms/step - loss: 0.1920\n",
            "Epoch 15/50\n",
            "26/26 [==============================] - 2s 68ms/step - loss: 0.1901\n",
            "Epoch 16/50\n",
            "26/26 [==============================] - 2s 68ms/step - loss: 0.1900\n",
            "Epoch 17/50\n",
            "26/26 [==============================] - 2s 69ms/step - loss: 0.1907\n",
            "Epoch 18/50\n",
            "26/26 [==============================] - 2s 69ms/step - loss: 0.1878\n",
            "Epoch 19/50\n",
            "26/26 [==============================] - 2s 70ms/step - loss: 0.1855\n",
            "Epoch 20/50\n",
            "26/26 [==============================] - 2s 70ms/step - loss: 0.1878\n",
            "Epoch 21/50\n",
            "26/26 [==============================] - 2s 70ms/step - loss: 0.1860\n",
            "Epoch 22/50\n",
            "26/26 [==============================] - 2s 70ms/step - loss: 0.1837\n",
            "Epoch 23/50\n",
            "26/26 [==============================] - 2s 70ms/step - loss: 0.1856\n",
            "Epoch 24/50\n",
            "26/26 [==============================] - 2s 71ms/step - loss: 0.1831\n",
            "Epoch 25/50\n",
            "26/26 [==============================] - 2s 71ms/step - loss: 0.1809\n",
            "Epoch 26/50\n",
            "26/26 [==============================] - 2s 71ms/step - loss: 0.1797\n",
            "Epoch 27/50\n",
            "26/26 [==============================] - 2s 71ms/step - loss: 0.1833\n",
            "Epoch 28/50\n",
            "26/26 [==============================] - 2s 71ms/step - loss: 0.1821\n",
            "Epoch 29/50\n",
            "26/26 [==============================] - 2s 72ms/step - loss: 0.1793\n",
            "Epoch 30/50\n",
            "26/26 [==============================] - 2s 72ms/step - loss: 0.1785\n",
            "Epoch 31/50\n",
            "26/26 [==============================] - 2s 72ms/step - loss: 0.1776\n",
            "Epoch 32/50\n",
            "26/26 [==============================] - 2s 73ms/step - loss: 0.1784\n",
            "Epoch 33/50\n",
            "26/26 [==============================] - 2s 72ms/step - loss: 0.1762\n",
            "Epoch 34/50\n",
            "26/26 [==============================] - 2s 73ms/step - loss: 0.1774\n",
            "Epoch 35/50\n",
            "26/26 [==============================] - 2s 72ms/step - loss: 0.1771\n",
            "Epoch 36/50\n",
            "26/26 [==============================] - 2s 72ms/step - loss: 0.1749\n",
            "Epoch 37/50\n",
            "26/26 [==============================] - 2s 72ms/step - loss: 0.1730\n",
            "Epoch 38/50\n",
            "26/26 [==============================] - 2s 72ms/step - loss: 0.1745\n",
            "Epoch 39/50\n",
            "26/26 [==============================] - 2s 72ms/step - loss: 0.1726\n",
            "Epoch 40/50\n",
            "26/26 [==============================] - 2s 72ms/step - loss: 0.1706\n",
            "Epoch 41/50\n",
            "26/26 [==============================] - 2s 71ms/step - loss: 0.1680\n",
            "Epoch 42/50\n",
            "26/26 [==============================] - 2s 71ms/step - loss: 0.1708\n",
            "Epoch 43/50\n",
            "26/26 [==============================] - 2s 71ms/step - loss: 0.1688\n",
            "Epoch 44/50\n",
            "26/26 [==============================] - 2s 71ms/step - loss: 0.1734\n",
            "Epoch 45/50\n",
            "26/26 [==============================] - 2s 71ms/step - loss: 0.1682\n",
            "Epoch 46/50\n",
            "26/26 [==============================] - 2s 70ms/step - loss: 0.1703\n",
            "Epoch 47/50\n",
            "26/26 [==============================] - 2s 70ms/step - loss: 0.1683\n",
            "Epoch 48/50\n",
            "26/26 [==============================] - 2s 69ms/step - loss: 0.1674\n",
            "Epoch 49/50\n",
            "26/26 [==============================] - 2s 70ms/step - loss: 0.1678\n",
            "Epoch 50/50\n",
            "26/26 [==============================] - 2s 70ms/step - loss: 0.1667\n"
          ],
          "name": "stdout"
        }
      ]
    },
    {
      "cell_type": "code",
      "metadata": {
        "id": "X6LmYyddKXTx",
        "colab_type": "code",
        "colab": {
          "base_uri": "https://localhost:8080/",
          "height": 282
        },
        "outputId": "4dadf7d4-732b-4aa4-acc1-5755debc0494"
      },
      "source": [
        "import matplotlib.pyplot as plt\n",
        "\n",
        "plt.plot(history.history['loss'])"
      ],
      "execution_count": null,
      "outputs": [
        {
          "output_type": "execute_result",
          "data": {
            "text/plain": [
              "[<matplotlib.lines.Line2D at 0x7f6f72b23e80>]"
            ]
          },
          "metadata": {
            "tags": []
          },
          "execution_count": 262
        },
        {
          "output_type": "display_data",
          "data": {
            "image/png": "[encoded data removed]",
            "text/plain": [
              "<Figure size 432x288 with 1 Axes>"
            ]
          },
          "metadata": {
            "tags": [],
            "needs_background": "light"
          }
        }
      ]
    },
    {
      "cell_type": "code",
      "metadata": {
        "id": "zCMMvZUXRT4W",
        "colab_type": "code",
        "colab": {}
      },
      "source": [
        "model.save_weights('confucius_v2.h5')"
      ],
      "execution_count": null,
      "outputs": []
    },
    {
      "cell_type": "code",
      "metadata": {
        "id": "ocW7FBRfNU6g",
        "colab_type": "code",
        "colab": {
          "base_uri": "https://localhost:8080/",
          "height": 289
        },
        "outputId": "2c99b80d-f064-45c0-e48c-51825ce8b791"
      },
      "source": [
        "pred_model = build_model(VOCAB_SIZE, EMBEDDING_DIM, 1, RNN_UNITS)"
      ],
      "execution_count": null,
      "outputs": [
        {
          "output_type": "stream",
          "text": [
            "Model: \"sequential_9\"\n",
            "_________________________________________________________________\n",
            "Layer (type)                 Output Shape              Param #   \n",
            "=================================================================\n",
            "embedding_9 (Embedding)      (1, None, 256)            29696     \n",
            "_________________________________________________________________\n",
            "lstm_9 (LSTM)                (1, None, 1024)           5246976   \n",
            "_________________________________________________________________\n",
            "dropout_9 (Dropout)          (1, None, 1024)           0         \n",
            "_________________________________________________________________\n",
            "dense_9 (Dense)              (1, None, 116)            118900    \n",
            "=================================================================\n",
            "Total params: 5,395,572\n",
            "Trainable params: 5,395,572\n",
            "Non-trainable params: 0\n",
            "_________________________________________________________________\n"
          ],
          "name": "stdout"
        }
      ]
    },
    {
      "cell_type": "code",
      "metadata": {
        "id": "J9pb9zCfNvq7",
        "colab_type": "code",
        "colab": {}
      },
      "source": [
        "pred_model.load_weights('/content/confucius_v2.h5')\n",
        "pred_model.build(tf.TensorShape([1,None]))"
      ],
      "execution_count": null,
      "outputs": []
    },
    {
      "cell_type": "code",
      "metadata": {
        "id": "kR8b90XCN-5l",
        "colab_type": "code",
        "colab": {}
      },
      "source": [
        "def generate_text(model, start_string):\n",
        "\n",
        "  num_generate = 500\n",
        "\n",
        "  input_eval = [char2idx[c] for c in start_string]\n",
        "  #convert to 2d array\n",
        "  input_eval = tf.expand_dims(input_eval, axis = 0)\n",
        "\n",
        "  text_generated = []\n",
        "  temperature = 1.1\n",
        "\n",
        "  model.reset_states()\n",
        "  for i in range(num_generate):\n",
        "    prediction = model(input_eval)\n",
        "    #convert to 1d array\n",
        "    prediction = tf.squeeze(prediction, axis=0)\n",
        "    prediction = prediction / temperature\n",
        "\n",
        "    predicted_id = tf.random.categorical(prediction, num_samples=1)[-1,0].numpy()\n",
        "    input_eval = tf.expand_dims([predicted_id], axis=0)\n",
        "    \n",
        "    text_generated.append(idx2char[predicted_id])\n",
        "  return (start_string + ''.join(text_generated))\n",
        "\n"
      ],
      "execution_count": null,
      "outputs": []
    },
    {
      "cell_type": "code",
      "metadata": {
        "id": "lB99FW1-PEKm",
        "colab_type": "code",
        "colab": {
          "base_uri": "https://localhost:8080/",
          "height": 244
        },
        "outputId": "22e9ff92-3fee-4988-9ebf-6170cc73746c"
      },
      "source": [
        "inp = input('Type here: ')\n",
        "print(generate_text(pred_model, inp))"
      ],
      "execution_count": null,
      "outputs": [
        {
          "output_type": "stream",
          "text": [
            "Type here: teach\n",
            "teaching. Curiously enough, toough the good of his family. Then\n",
            "indeed is he a\n",
            "noble character.\n",
            "\n",
            "The higher type of man seeks all that he wants in himself and the man of virtue is long-lived.\n",
            "\n",
            "The hinder oathe way.\n",
            "\n",
            "Tzŭ Kung asked a question about friendship. The Master said: Be\n",
            "conscientious in speaking the chief of which were the Analects themselves and Ssŭ-ma Ch'ien, which is largely to be the religiously sulder the \"What principles\n",
            "which should govern friendship. Tzŭ Chang said: What is\n"
          ],
          "name": "stdout"
        }
      ]
    },
    {
      "cell_type": "code",
      "metadata": {
        "id": "s0UStqJPPS4A",
        "colab_type": "code",
        "colab": {}
      },
      "source": [
        ""
      ],
      "execution_count": null,
      "outputs": []
    },
    {
      "cell_type": "code",
      "metadata": {
        "id": "LyMC7j0vSqwc",
        "colab_type": "code",
        "colab": {}
      },
      "source": [
        ""
      ],
      "execution_count": null,
      "outputs": []
    },
    {
      "cell_type": "code",
      "metadata": {
        "id": "nBYO6AMzSzGz",
        "colab_type": "code",
        "colab": {}
      },
      "source": [
        ""
      ],
      "execution_count": null,
      "outputs": []
    }
  ]
}