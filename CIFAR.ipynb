{
  "nbformat": 4,
  "nbformat_minor": 0,
  "metadata": {
    "colab": {
      "name": "CIFAR.ipynb",
      "provenance": [],
      "collapsed_sections": [],
      "authorship_tag": "ABX9TyNH8WaSQ7A9/o3voKlz1dCj",
      "include_colab_link": true
    },
    "kernelspec": {
      "name": "python3",
      "display_name": "Python 3"
    },
    "accelerator": "GPU"
  },
  "cells": [
    {
      "cell_type": "markdown",
      "metadata": {
        "id": "view-in-github",
        "colab_type": "text"
      },
      "source": [
        "<a href=\"https://colab.research.google.com/github/iamwendellbalagot/google-colab/blob/master/CIFAR.ipynb\" target=\"_parent\"><img src=\"https://colab.research.google.com/assets/colab-badge.svg\" alt=\"Open In Colab\"/></a>"
      ]
    },
    {
      "cell_type": "code",
      "metadata": {
        "id": "uuVpOJu5bw5O",
        "colab_type": "code",
        "colab": {}
      },
      "source": [
        "%tensorflow_version 2.x"
      ],
      "execution_count": null,
      "outputs": []
    },
    {
      "cell_type": "code",
      "metadata": {
        "id": "zdbhUMx4cGm-",
        "colab_type": "code",
        "colab": {}
      },
      "source": [
        "import tensorflow as tf\n",
        "from tensorflow.keras.layers import Dense, Dropout, Conv2D, MaxPooling2D, Flatten\n",
        "from tensorflow.keras.models import Sequential\n",
        "\n",
        "import numpy as np\n",
        "import matplotlib.pyplot as plt"
      ],
      "execution_count": null,
      "outputs": []
    },
    {
      "cell_type": "code",
      "metadata": {
        "id": "h0rLLpP1co3q",
        "colab_type": "code",
        "colab": {
          "base_uri": "https://localhost:8080/",
          "height": 51
        },
        "outputId": "9d80bef3-fe71-470d-84f4-ac76c78d45b2"
      },
      "source": [
        "(train_img, train_labels), (test_img, test_labels) = tf.keras.datasets.cifar10.load_data()"
      ],
      "execution_count": null,
      "outputs": [
        {
          "output_type": "stream",
          "text": [
            "Downloading data from https://www.cs.toronto.edu/~kriz/cifar-10-python.tar.gz\n",
            "170500096/170498071 [==============================] - 2s 0us/step\n"
          ],
          "name": "stdout"
        }
      ]
    },
    {
      "cell_type": "code",
      "metadata": {
        "id": "3n-lTiEQdBb3",
        "colab_type": "code",
        "colab": {
          "base_uri": "https://localhost:8080/",
          "height": 85
        },
        "outputId": "7f673ac1-042c-4a98-e110-5fef157c99a1"
      },
      "source": [
        "for val in [train_img, test_img, train_labels, test_labels]:\n",
        "  print('Shape: ', val.shape)"
      ],
      "execution_count": null,
      "outputs": [
        {
          "output_type": "stream",
          "text": [
            "Shape:  (50000, 32, 32, 3)\n",
            "Shape:  (10000, 32, 32, 3)\n",
            "Shape:  (50000, 1)\n",
            "Shape:  (10000, 1)\n"
          ],
          "name": "stdout"
        }
      ]
    },
    {
      "cell_type": "code",
      "metadata": {
        "id": "Bu0mFOMRddYv",
        "colab_type": "code",
        "colab": {}
      },
      "source": [
        "train_img = train_img / 255.\n",
        "test_img = test_img / 255."
      ],
      "execution_count": null,
      "outputs": []
    },
    {
      "cell_type": "code",
      "metadata": {
        "id": "PkYt7grqd9Az",
        "colab_type": "code",
        "colab": {
          "base_uri": "https://localhost:8080/",
          "height": 323
        },
        "outputId": "00122a91-6d26-4632-ee6a-8fc83e76078b"
      },
      "source": [
        "model = Sequential()\n",
        "model.add(Conv2D(32, (3,3), activation='relu', input_shape= (train_img.shape[1:])))\n",
        "model.add(MaxPooling2D((2,2)))\n",
        "model.add(Conv2D(64, (3,3), activation='relu'))\n",
        "model.add(MaxPooling2D((2,2)))\n",
        "model.add(Conv2D(64, (3,3), activation='relu'))\n",
        "model.summary()"
      ],
      "execution_count": null,
      "outputs": [
        {
          "output_type": "stream",
          "text": [
            "Model: \"sequential_3\"\n",
            "_________________________________________________________________\n",
            "Layer (type)                 Output Shape              Param #   \n",
            "=================================================================\n",
            "conv2d_9 (Conv2D)            (None, 30, 30, 32)        896       \n",
            "_________________________________________________________________\n",
            "max_pooling2d_6 (MaxPooling2 (None, 15, 15, 32)        0         \n",
            "_________________________________________________________________\n",
            "conv2d_10 (Conv2D)           (None, 13, 13, 64)        18496     \n",
            "_________________________________________________________________\n",
            "max_pooling2d_7 (MaxPooling2 (None, 6, 6, 64)          0         \n",
            "_________________________________________________________________\n",
            "conv2d_11 (Conv2D)           (None, 4, 4, 64)          36928     \n",
            "=================================================================\n",
            "Total params: 56,320\n",
            "Trainable params: 56,320\n",
            "Non-trainable params: 0\n",
            "_________________________________________________________________\n"
          ],
          "name": "stdout"
        }
      ]
    },
    {
      "cell_type": "code",
      "metadata": {
        "id": "Sl7M4fjzep4r",
        "colab_type": "code",
        "colab": {
          "base_uri": "https://localhost:8080/",
          "height": 459
        },
        "outputId": "9b45bb80-9f7a-41e4-d29c-58d0b81446aa"
      },
      "source": [
        "model.add(Flatten())\n",
        "model.add(Dense(128, activation='relu'))\n",
        "model.add(Dropout(0.2))\n",
        "model.add(Dense(10, activation='sigmoid'))\n",
        "model.summary()"
      ],
      "execution_count": null,
      "outputs": [
        {
          "output_type": "stream",
          "text": [
            "Model: \"sequential_3\"\n",
            "_________________________________________________________________\n",
            "Layer (type)                 Output Shape              Param #   \n",
            "=================================================================\n",
            "conv2d_9 (Conv2D)            (None, 30, 30, 32)        896       \n",
            "_________________________________________________________________\n",
            "max_pooling2d_6 (MaxPooling2 (None, 15, 15, 32)        0         \n",
            "_________________________________________________________________\n",
            "conv2d_10 (Conv2D)           (None, 13, 13, 64)        18496     \n",
            "_________________________________________________________________\n",
            "max_pooling2d_7 (MaxPooling2 (None, 6, 6, 64)          0         \n",
            "_________________________________________________________________\n",
            "conv2d_11 (Conv2D)           (None, 4, 4, 64)          36928     \n",
            "_________________________________________________________________\n",
            "flatten_4 (Flatten)          (None, 1024)              0         \n",
            "_________________________________________________________________\n",
            "dense_20 (Dense)             (None, 128)               131200    \n",
            "_________________________________________________________________\n",
            "dropout_7 (Dropout)          (None, 128)               0         \n",
            "_________________________________________________________________\n",
            "dense_21 (Dense)             (None, 10)                1290      \n",
            "=================================================================\n",
            "Total params: 188,810\n",
            "Trainable params: 188,810\n",
            "Non-trainable params: 0\n",
            "_________________________________________________________________\n"
          ],
          "name": "stdout"
        }
      ]
    },
    {
      "cell_type": "code",
      "metadata": {
        "id": "G4ET6Yzjg2Xm",
        "colab_type": "code",
        "colab": {}
      },
      "source": [
        "model.compile(optimizer='adam', loss='sparse_categorical_crossentropy', metrics='accuracy')"
      ],
      "execution_count": null,
      "outputs": []
    },
    {
      "cell_type": "code",
      "metadata": {
        "id": "9weBrf7FhKNX",
        "colab_type": "code",
        "colab": {
          "base_uri": "https://localhost:8080/",
          "height": 714
        },
        "outputId": "e73242af-1aaa-4bed-db56-c3f11c78ecc2"
      },
      "source": [
        "model.fit(train_img, train_labels, epochs=20, validation_data=(test_img, test_labels))"
      ],
      "execution_count": null,
      "outputs": [
        {
          "output_type": "stream",
          "text": [
            "Epoch 1/20\n",
            "1563/1563 [==============================] - 11s 7ms/step - loss: 0.6467 - accuracy: 0.7690 - val_loss: 0.8606 - val_accuracy: 0.7169\n",
            "Epoch 2/20\n",
            "1563/1563 [==============================] - 11s 7ms/step - loss: 0.6245 - accuracy: 0.7780 - val_loss: 0.8495 - val_accuracy: 0.7232\n",
            "Epoch 3/20\n",
            "1563/1563 [==============================] - 11s 7ms/step - loss: 0.5944 - accuracy: 0.7862 - val_loss: 0.8770 - val_accuracy: 0.7215\n",
            "Epoch 4/20\n",
            "1563/1563 [==============================] - 11s 7ms/step - loss: 0.5689 - accuracy: 0.7955 - val_loss: 0.8824 - val_accuracy: 0.7182\n",
            "Epoch 5/20\n",
            "1563/1563 [==============================] - 11s 7ms/step - loss: 0.5433 - accuracy: 0.8053 - val_loss: 0.9320 - val_accuracy: 0.7135\n",
            "Epoch 6/20\n",
            "1563/1563 [==============================] - 11s 7ms/step - loss: 0.5204 - accuracy: 0.8132 - val_loss: 0.9188 - val_accuracy: 0.7198\n",
            "Epoch 7/20\n",
            "1563/1563 [==============================] - 11s 7ms/step - loss: 0.4995 - accuracy: 0.8200 - val_loss: 0.9585 - val_accuracy: 0.7117\n",
            "Epoch 8/20\n",
            "1563/1563 [==============================] - 12s 7ms/step - loss: 0.4793 - accuracy: 0.8273 - val_loss: 0.9985 - val_accuracy: 0.7125\n",
            "Epoch 9/20\n",
            "1563/1563 [==============================] - 11s 7ms/step - loss: 0.4568 - accuracy: 0.8346 - val_loss: 0.9833 - val_accuracy: 0.7214\n",
            "Epoch 10/20\n",
            "1563/1563 [==============================] - 11s 7ms/step - loss: 0.4421 - accuracy: 0.8400 - val_loss: 1.0264 - val_accuracy: 0.7067\n",
            "Epoch 11/20\n",
            "1563/1563 [==============================] - 11s 7ms/step - loss: 0.4221 - accuracy: 0.8468 - val_loss: 1.0111 - val_accuracy: 0.7199\n",
            "Epoch 12/20\n",
            "1563/1563 [==============================] - 11s 7ms/step - loss: 0.4085 - accuracy: 0.8503 - val_loss: 1.0649 - val_accuracy: 0.7148\n",
            "Epoch 13/20\n",
            "1563/1563 [==============================] - 11s 7ms/step - loss: 0.3914 - accuracy: 0.8571 - val_loss: 1.0731 - val_accuracy: 0.7168\n",
            "Epoch 14/20\n",
            "1563/1563 [==============================] - 11s 7ms/step - loss: 0.3751 - accuracy: 0.8625 - val_loss: 1.0870 - val_accuracy: 0.7059\n",
            "Epoch 15/20\n",
            "1563/1563 [==============================] - 11s 7ms/step - loss: 0.3717 - accuracy: 0.8644 - val_loss: 1.1670 - val_accuracy: 0.7071\n",
            "Epoch 16/20\n",
            "1563/1563 [==============================] - 11s 7ms/step - loss: 0.3574 - accuracy: 0.8685 - val_loss: 1.1505 - val_accuracy: 0.7192\n",
            "Epoch 17/20\n",
            "1563/1563 [==============================] - 11s 7ms/step - loss: 0.3458 - accuracy: 0.8724 - val_loss: 1.1537 - val_accuracy: 0.7117\n",
            "Epoch 18/20\n",
            "1563/1563 [==============================] - 11s 7ms/step - loss: 0.3387 - accuracy: 0.8764 - val_loss: 1.2160 - val_accuracy: 0.7083\n",
            "Epoch 19/20\n",
            "1563/1563 [==============================] - 11s 7ms/step - loss: 0.3268 - accuracy: 0.8806 - val_loss: 1.1810 - val_accuracy: 0.7107\n",
            "Epoch 20/20\n",
            "1563/1563 [==============================] - 11s 7ms/step - loss: 0.3157 - accuracy: 0.8843 - val_loss: 1.2714 - val_accuracy: 0.7001\n"
          ],
          "name": "stdout"
        },
        {
          "output_type": "execute_result",
          "data": {
            "text/plain": [
              "<tensorflow.python.keras.callbacks.History at 0x7fd252310f60>"
            ]
          },
          "metadata": {
            "tags": []
          },
          "execution_count": 27
        }
      ]
    },
    {
      "cell_type": "code",
      "metadata": {
        "id": "z7Ye2REWhUpf",
        "colab_type": "code",
        "colab": {}
      },
      "source": [
        ""
      ],
      "execution_count": null,
      "outputs": []
    }
  ]
}