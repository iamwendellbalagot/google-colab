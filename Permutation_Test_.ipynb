{
  "nbformat": 4,
  "nbformat_minor": 0,
  "metadata": {
    "colab": {
      "name": "Permutation Test .ipynb",
      "provenance": [],
      "collapsed_sections": [],
      "authorship_tag": "ABX9TyNq2v1zdv6kVsyCeUaUv7jk",
      "include_colab_link": true
    },
    "kernelspec": {
      "name": "python3",
      "display_name": "Python 3"
    }
  },
  "cells": [
    {
      "cell_type": "markdown",
      "metadata": {
        "id": "view-in-github",
        "colab_type": "text"
      },
      "source": [
        "<a href=\"https://colab.research.google.com/github/iamwendellbalagot/google-colab/blob/master/Permutation_Test_.ipynb\" target=\"_parent\"><img src=\"https://colab.research.google.com/assets/colab-badge.svg\" alt=\"Open In Colab\"/></a>"
      ]
    },
    {
      "cell_type": "code",
      "metadata": {
        "id": "sByO2rUN4S9L",
        "colab_type": "code",
        "colab": {}
      },
      "source": [
        "import numpy as np\n",
        "import pandas as pd\n",
        "import matplotlib.pyplot as plt\n",
        "import seaborn as sns\n",
        "import scipy.stats as stats\n",
        "from sklearn import datasets\n",
        "\n",
        "plt.style.use('ggplot')\n",
        "sns.set_style('whitegrid')\n",
        "\n",
        "import warnings\n",
        "warnings.filterwarnings('ignore')"
      ],
      "execution_count": 3,
      "outputs": []
    },
    {
      "cell_type": "code",
      "metadata": {
        "id": "wGJldYnE4rfA",
        "colab_type": "code",
        "colab": {}
      },
      "source": [
        "irisd = datasets.load_iris()"
      ],
      "execution_count": 14,
      "outputs": []
    },
    {
      "cell_type": "code",
      "metadata": {
        "id": "G7KdFBok5NOP",
        "colab_type": "code",
        "colab": {}
      },
      "source": [
        "feat_set = irisd.data[np.where(irisd.target[:]==0)[0],:2]\n",
        "#Versicolor:\n",
        "feat_ver = irisd.data[np.where(irisd.target[:]==1)[0],:2]\n",
        "#Virginica:\n",
        "feat_vir = irisd.data[np.where(irisd.target[:]==2)[0],:2]"
      ],
      "execution_count": 15,
      "outputs": []
    },
    {
      "cell_type": "code",
      "metadata": {
        "id": "mmS-Ga5I5RYW",
        "colab_type": "code",
        "colab": {}
      },
      "source": [
        "pV = np.array(list(feat_ver[:, 0]) + list(feat_vir[:,0]))"
      ],
      "execution_count": 38,
      "outputs": []
    },
    {
      "cell_type": "code",
      "metadata": {
        "id": "8UIoORXu59UU",
        "colab_type": "code",
        "colab": {}
      },
      "source": [
        "mean_a  = np.mean(feat_ver[:,0])\n",
        "mean_b  = np.mean(feat_vir[:,0])"
      ],
      "execution_count": 24,
      "outputs": []
    },
    {
      "cell_type": "code",
      "metadata": {
        "id": "T7eZ4xXg6W3-",
        "colab_type": "code",
        "colab": {}
      },
      "source": [
        "def permutate(x, n1,n2):\n",
        "  n = n1 + n2\n",
        "  idx_b = np.random.choice(np.arange(n), n1, replace=False)\n",
        "  idx_a = np.array(list(set(np.arange(n)) - set(idx_b)))\n",
        "  mean_diff = np.abs(np.mean(x[idx_b]) - np.mean(x[idx_a]))\n",
        "  return mean_diff"
      ],
      "execution_count": 51,
      "outputs": []
    },
    {
      "cell_type": "code",
      "metadata": {
        "id": "fLu9tu9u69ZZ",
        "colab_type": "code",
        "colab": {}
      },
      "source": [
        "perm_diff = np.zeros(1000)\n",
        "\n",
        "for i in range(1000):\n",
        "  perm_diff[i] = permutate(pV, 50,50)"
      ],
      "execution_count": 56,
      "outputs": []
    },
    {
      "cell_type": "code",
      "metadata": {
        "id": "gN7-gObr9QG5",
        "colab_type": "code",
        "colab": {
          "base_uri": "https://localhost:8080/",
          "height": 337
        },
        "outputId": "6d52e623-7194-463a-8425-99425d06ba16"
      },
      "source": [
        "plt.figure(figsize=(10,5))\n",
        "plt.title('Permutation Diff Distibution')\n",
        "sns.distplot(perm_diff);\n",
        "plt.axvline(np.abs(mean_a-mean_b), 0, 0.7, lw=2, color='steelblue');"
      ],
      "execution_count": 74,
      "outputs": [
        {
          "output_type": "display_data",
          "data": {
            "image/png": "[encoded data removed]",
            "text/plain": [
              "<Figure size 720x360 with 1 Axes>"
            ]
          },
          "metadata": {
            "tags": []
          }
        }
      ]
    },
    {
      "cell_type": "code",
      "metadata": {
        "id": "Kikhbt6m9a1B",
        "colab_type": "code",
        "colab": {
          "base_uri": "https://localhost:8080/",
          "height": 34
        },
        "outputId": "86050b37-0e17-4cc0-ecde-2a43b46745d9"
      },
      "source": [
        "stats.ttest_ind(feat_ver[:,0], feat_vir[:,0])"
      ],
      "execution_count": 81,
      "outputs": [
        {
          "output_type": "execute_result",
          "data": {
            "text/plain": [
              "Ttest_indResult(statistic=-5.629165259719801, pvalue=1.7248563024547942e-07)"
            ]
          },
          "metadata": {
            "tags": []
          },
          "execution_count": 81
        }
      ]
    },
    {
      "cell_type": "code",
      "metadata": {
        "id": "RHapSBFcBkNT",
        "colab_type": "code",
        "colab": {}
      },
      "source": [
        "mean_a  = np.mean(feat_ver[:,1])\n",
        "mean_b  = np.mean(feat_vir[:,1])"
      ],
      "execution_count": 82,
      "outputs": []
    },
    {
      "cell_type": "code",
      "metadata": {
        "id": "i9DR820bDHNK",
        "colab_type": "code",
        "colab": {}
      },
      "source": [
        "pV2 = np.array(list(feat_ver[:, 1]) + list(feat_vir[:,1]))\n",
        "perm_diff = np.zeros(1000)\n",
        "\n",
        "for i in range(1000):\n",
        "  perm_diff[i] = permutate(pV2, 50,50)"
      ],
      "execution_count": 83,
      "outputs": []
    },
    {
      "cell_type": "code",
      "metadata": {
        "id": "uY-OgWJBDQ2v",
        "colab_type": "code",
        "colab": {
          "base_uri": "https://localhost:8080/",
          "height": 337
        },
        "outputId": "3980d02d-8105-4e1f-b95d-f2d6ba9a9f8d"
      },
      "source": [
        "plt.figure(figsize=(10,5))\n",
        "plt.title('Permutation Diff Distibution')\n",
        "sns.distplot(perm_diff);\n",
        "plt.axvline(np.abs(mean_a-mean_b), 0, 0.7, lw=2, color='steelblue');"
      ],
      "execution_count": 84,
      "outputs": [
        {
          "output_type": "display_data",
          "data": {
            "image/png": "[encoded data removed]",
            "text/plain": [
              "<Figure size 720x360 with 1 Axes>"
            ]
          },
          "metadata": {
            "tags": []
          }
        }
      ]
    },
    {
      "cell_type": "code",
      "metadata": {
        "id": "o75wrBo4DTPy",
        "colab_type": "code",
        "colab": {
          "base_uri": "https://localhost:8080/",
          "height": 34
        },
        "outputId": "0dc3f81d-370c-4da8-c19f-97911e56080e"
      },
      "source": [
        "np.mean(perm_diff[np.where(perm_diff > abs(mean_a-mean_b))])"
      ],
      "execution_count": 86,
      "outputs": [
        {
          "output_type": "execute_result",
          "data": {
            "text/plain": [
              "0.23399999999999976"
            ]
          },
          "metadata": {
            "tags": []
          },
          "execution_count": 86
        }
      ]
    },
    {
      "cell_type": "code",
      "metadata": {
        "id": "_QIOsdymDhVn",
        "colab_type": "code",
        "colab": {
          "base_uri": "https://localhost:8080/",
          "height": 34
        },
        "outputId": "f088d640-08d7-4b5c-ca9c-0024fec79233"
      },
      "source": [
        "stats.ttest_ind(feat_ver[:,1], feat_vir[:,1])"
      ],
      "execution_count": 87,
      "outputs": [
        {
          "output_type": "execute_result",
          "data": {
            "text/plain": [
              "Ttest_indResult(statistic=-3.2057607502218186, pvalue=0.0018191004238894803)"
            ]
          },
          "metadata": {
            "tags": []
          },
          "execution_count": 87
        }
      ]
    },
    {
      "cell_type": "code",
      "metadata": {
        "id": "LbopKLC2Dwgn",
        "colab_type": "code",
        "colab": {
          "base_uri": "https://localhost:8080/",
          "height": 34
        },
        "outputId": "d81e8b26-8a8c-4c9f-d8ea-e1eb4d257c82"
      },
      "source": [
        ""
      ],
      "execution_count": 89,
      "outputs": [
        {
          "output_type": "execute_result",
          "data": {
            "text/plain": [
              "0.20399999999999974"
            ]
          },
          "metadata": {
            "tags": []
          },
          "execution_count": 89
        }
      ]
    },
    {
      "cell_type": "code",
      "metadata": {
        "id": "qw8vwyoyEAuh",
        "colab_type": "code",
        "colab": {}
      },
      "source": [
        ""
      ],
      "execution_count": null,
      "outputs": []
    }
  ]
}